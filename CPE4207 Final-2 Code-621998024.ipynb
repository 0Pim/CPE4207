{
 "cells": [
  {
   "cell_type": "code",
   "execution_count": 1,
   "id": "565d1de5",
   "metadata": {},
   "outputs": [],
   "source": [
    "# ให้นักศึกษาเขียนโปรแกรมสำหรับวางแผนเส้นทางการออกกำลังกาย โดยรับข้อมูลจากผู้ใช้งาน \n",
    "# เป็นระยะทางที่ต้องการ พร้อมด้วยจุดเริ่มต้น และ จุดหมายปลายทาง ที่ต้องการ\n",
    "\n",
    "import numpy as np\n",
    "from numpy import random"
   ]
  },
  {
   "cell_type": "code",
   "execution_count": 2,
   "id": "a0ec9624",
   "metadata": {},
   "outputs": [],
   "source": [
    "def Set(start):\n",
    "    for i in range(len(cities)):\n",
    "        if start == cities[i]:\n",
    "            return i\n"
   ]
  },
  {
   "cell_type": "code",
   "execution_count": 3,
   "id": "65e0db7a",
   "metadata": {},
   "outputs": [],
   "source": [
    "def Random(adjacency_mat, start, t, num):\n",
    "    for i in adjacency_mat[start]:\n",
    "        t = t + 1\n",
    "        if i != 0:\n",
    "            num.append(t)\n",
    "    return num[random.randint(0, len(num))]\n"
   ]
  },
  {
   "cell_type": "code",
   "execution_count": 4,
   "id": "62d50237",
   "metadata": {},
   "outputs": [],
   "source": [
    "def Cal(cities, adjacency_mat, need, start, stop, result):\n",
    "    Set = []\n",
    "    for i in range(1000):\n",
    "        sum = 0\n",
    "        S = []\n",
    "        P = start\n",
    "        j = 0\n",
    "        while stop != P:\n",
    "            j = Random(adjacency_mat, P, t=-1, num=[])\n",
    "            sum = sum + adjacency_mat[P, j]\n",
    "            S.append(cities[j])\n",
    "            P = j\n",
    "        result.append(sum)\n",
    "        Set.append(S)\n",
    "        P = start\n",
    "    check = []\n",
    "    sumN = Check(check, need, result)\n",
    "    Display(cities, start, sumN, Set, result)"
   ]
  },
  {
   "cell_type": "code",
   "execution_count": 9,
   "id": "74322a94",
   "metadata": {},
   "outputs": [],
   "source": [
    "def Check(check, need, result):\n",
    "    for i in result:\n",
    "        if i > int(need):\n",
    "            check.append(i - int(need))\n",
    "        else:\n",
    "            check.append(int(need) - i)\n",
    "    return check"
   ]
  },
  {
   "cell_type": "code",
   "execution_count": 10,
   "id": "80fdbf52",
   "metadata": {},
   "outputs": [],
   "source": [
    "def Display(cities, start, check, Set, result):\n",
    "    for i in range(len(check)):\n",
    "        if min(check) == check[i]:\n",
    "            print(\"เส้นทางที่ได้ :\", cities[start], end='--')\n",
    "            print(*Set[i], sep=\"--\")\n",
    "            print(\"ระยะทางเท่ากับ :\", result[i], 'Km')\n",
    "            break\n",
    "            \n",
    "cities = [\"A\", \"B\", \"C\", \"D\", \"E\"]\n",
    "\n",
    "adjacency_mat = np.asarray([\n",
    "    [0, 2, 5, 8, 0],\n",
    "    [2, 0, 0, 3, 4],\n",
    "    [5, 0, 0, 4, 3],\n",
    "    [8, 3, 4, 0, 2],\n",
    "    [0, 4, 3, 2, 0],])"
   ]
  },
  {
   "cell_type": "code",
   "execution_count": 13,
   "id": "c45d3fd3",
   "metadata": {},
   "outputs": [
    {
     "name": "stdout",
     "output_type": "stream",
     "text": [
      "เส้นทางที่ได้ : A--D--C\n",
      "ระยะทางเท่ากับ : 12 Km\n"
     ]
    }
   ],
   "source": [
    "need = 12\n",
    "start = Set(\"A\")\n",
    "stop = Set(\"C\")\n",
    "Cal(cities, adjacency_mat, need, start, stop, [])"
   ]
  },
  {
   "cell_type": "code",
   "execution_count": null,
   "id": "fcede124",
   "metadata": {},
   "outputs": [],
   "source": []
  }
 ],
 "metadata": {
  "kernelspec": {
   "display_name": "Python 3",
   "language": "python",
   "name": "python3"
  },
  "language_info": {
   "codemirror_mode": {
    "name": "ipython",
    "version": 3
   },
   "file_extension": ".py",
   "mimetype": "text/x-python",
   "name": "python",
   "nbconvert_exporter": "python",
   "pygments_lexer": "ipython3",
   "version": "3.8.8"
  }
 },
 "nbformat": 4,
 "nbformat_minor": 5
}
